{
  "cells": [
    {
      "cell_type": "code",
      "execution_count": null,
      "metadata": {
        "id": "8Az71bGfZjgo"
      },
      "outputs": [],
      "source": [
        "from google.colab import drive\n",
        "#drive.mount(\"/content/drive\", force_remount=True)\n",
        "\n",
        "# name of the folder might be different depending on how you name it\n",
        "%cd /content/drive/MyDrive/reproduction_study\n",
        "\n",
        "!wget https://repo.anaconda.com/miniconda/Miniconda3-latest-Linux-x86_64.sh -O miniconda.sh\n",
        "!bash miniconda.sh -b -u -p /usr/local\n",
        "!rm miniconda.sh\n",
        "\n",
        "import sys\n",
        "sys.path.append('/usr/local/lib/python3.7/site-packages/')\n",
        "sys.path.append('/usr/local/lib/python3.7/site-packages/pyarrow-3.0.0-py3.7-linux-x86_64.egg')\n",
        "sys.path.append('/usr/local/lib/python3.7/site-packages/IPython/extensions')\n",
        "sys.path.append('/usr/local/lib/python3.7/site-packages/IPython/extensions/google')\n",
        "\n",
        "# make sure the conda exists\n",
        "!conda --version\n",
        "\n",
        "!source ~/.bashrc\n",
        "\n",
        "\n"
      ]
    },
    {
      "cell_type": "code",
      "execution_count": null,
      "metadata": {
        "id": "7h9-iMR5GEFO"
      },
      "outputs": [],
      "source": [
        "# Create the environment \n",
        "!conda env create -f environment.yml"
      ]
    },
    {
      "cell_type": "code",
      "execution_count": null,
      "metadata": {
        "id": "AiIivcQsaw56"
      },
      "outputs": [],
      "source": [
        "# install some packages\n",
        "!source activate gve-lrcn && pip install -r requirements.txt\n",
        "\n",
        "# download en from spacy\n",
        "!source activate gve-lrcn && python -m spacy download en\n"
      ]
    },
    {
      "cell_type": "code",
      "execution_count": null,
      "metadata": {
        "id": "fpcv2Z7PFxf3"
      },
      "outputs": [],
      "source": [
        "%cd /content/drive/MyDrive/Pragmatic-ISIC\n",
        "\n",
        "\n",
        "# train a classifier for a3ds dataset\n",
        "!source activate gve-lrcn && python main.py --model sc --dataset 3d \n",
        "\n",
        "!cp ./checkpoints/sc-3d-D2023-03-22-T14-40-05-G0/best-ckpt.pth ./data/A3DS/sentence_classifier_ckpt.pth\n",
        "# train a captioner for a3ds dataset \n",
        "!source activate gve-lrcn && python main.py --model gve --dataset 3d --sc-ckpt ./data/A3DS/sentence_classifier_ckpt.pth --num-epochs 15\n",
        "\n",
        "# test the captioner\n",
        "!source activate gve-lrcn && python main.py --model gve --dataset 3d --eval ./checkpoints/gve-3d-D<date>-T<time>-G<GPUid>/best-ckpt.pth"
      ]
    }
  ],
  "metadata": {
    "accelerator": "GPU",
    "colab": {
      "machine_shape": "hm",
      "provenance": []
    },
    "gpuClass": "standard",
    "kernelspec": {
      "display_name": "Python 3",
      "name": "python3"
    },
    "language_info": {
      "name": "python"
    }
  },
  "nbformat": 4,
  "nbformat_minor": 0
}